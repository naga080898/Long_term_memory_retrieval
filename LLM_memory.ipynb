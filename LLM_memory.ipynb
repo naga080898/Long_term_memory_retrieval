{
 "cells": [
  {
   "cell_type": "code",
   "execution_count": 36,
   "id": "f026e942",
   "metadata": {},
   "outputs": [],
   "source": [
    "import pickle\n",
    "\n",
    "def read_and_print_pkl(file_path):\n",
    "    \"\"\"Read a .pkl file and print its contents.\"\"\"\n",
    "    try:\n",
    "        with open(file_path, 'rb') as file:\n",
    "            data = pickle.load(file)\n",
    "            print(data)\n",
    "        return data\n",
    "    except FileNotFoundError:\n",
    "        print(f\"File not found: {file_path}\")\n",
    "    except Exception as e:\n",
    "        print(f\"An error occurred while reading the file: {e}\")\n",
    "\n",
    "# Example usage\n",
    "# read_and_print_pkl('path_to_your_file.pkl')\n"
   ]
  },
  {
   "cell_type": "code",
   "execution_count": 47,
   "id": "5e104859",
   "metadata": {},
   "outputs": [
    {
     "name": "stdout",
     "output_type": "stream",
     "text": [
      "{'index_type': 'flat', 'dimension': 384, 'documents': {'doc_0': 'Name: Naga, Location: HSR Layout, Bangalore, Job: shram.ai, Role: working on multimodal agentic frameworks', 'doc_2': 'User is looking for flats in HSR Layout, Bangalore.', 'doc_3': 'User uses cursor and shram to enhance productivity.', 'doc_4': 'User has a subscription for gym and swimming.'}, 'metadata': {'doc_0': {}, 'doc_2': {}, 'doc_3': {}, 'doc_4': {}}, 'doc_counter': 5, 'index_data': array([ 73, 120,  70, ...,  77, 132,  61], dtype=uint8)}\n",
      "{'index_type': 'flat', 'dimension': 384, 'documents': {'doc_0': 'Name: Naga, Location: HSR Layout, Bangalore, Job: shram.ai, Role: working on multimodal agentic frameworks', 'doc_2': 'User is looking for flats in HSR Layout, Bangalore.', 'doc_3': 'User uses cursor and shram to enhance productivity.', 'doc_4': 'User has a subscription for gym and swimming.'}, 'metadata': {'doc_0': {}, 'doc_2': {}, 'doc_3': {}, 'doc_4': {}}, 'doc_counter': 5, 'index_data': array([ 73, 120,  70, ...,  77, 132,  61], dtype=uint8)}\n"
     ]
    }
   ],
   "source": [
    "file_path = \"/Users/naganarasimharao/Desktop/Long_term_memory_retrieval/user_memory/naga_v4/rag_db_naga_v4.pkl\"\n",
    "data = read_and_print_pkl(file_path)\n",
    "print(data)"
   ]
  },
  {
   "cell_type": "code",
   "execution_count": 48,
   "id": "d28c0550",
   "metadata": {},
   "outputs": [
    {
     "name": "stdout",
     "output_type": "stream",
     "text": [
      "{'doc_0': 'Name: Naga, Location: HSR Layout, Bangalore, Job: shram.ai, Role: working on multimodal agentic frameworks', 'doc_2': 'User is looking for flats in HSR Layout, Bangalore.', 'doc_3': 'User uses cursor and shram to enhance productivity.', 'doc_4': 'User has a subscription for gym and swimming.'}\n"
     ]
    }
   ],
   "source": [
    "print(data['documents']) "
   ]
  }
 ],
 "metadata": {
  "kernelspec": {
   "display_name": "LLM_memory-env",
   "language": "python",
   "name": "python3"
  },
  "language_info": {
   "codemirror_mode": {
    "name": "ipython",
    "version": 3
   },
   "file_extension": ".py",
   "mimetype": "text/x-python",
   "name": "python",
   "nbconvert_exporter": "python",
   "pygments_lexer": "ipython3",
   "version": "3.11.1"
  }
 },
 "nbformat": 4,
 "nbformat_minor": 5
}
